{
 "cells": [
  {
   "cell_type": "code",
   "execution_count": 0,
   "metadata": {
    "colab": {},
    "colab_type": "code",
    "id": "VLKlgOdvlPw4"
   },
   "outputs": [],
   "source": [
    "!pip install git+https://github.com/emres/turkish-deasciifier.git\n",
    "!pip install TurkishStemmer"
   ]
  },
  {
   "cell_type": "code",
   "execution_count": 0,
   "metadata": {
    "colab": {},
    "colab_type": "code",
    "id": "sesTiXGHlPw9"
   },
   "outputs": [],
   "source": [
    "# Kullanacağımız kütüphaneler\n",
    "import re\n",
    "from turkish.deasciifier import Deasciifier\n",
    "from TurkishStemmer import TurkishStemmer"
   ]
  },
  {
   "cell_type": "markdown",
   "metadata": {
    "colab_type": "text",
    "id": "zNrLuNjIlPxA"
   },
   "source": [
    "## Format sorunları\n",
    "Unicode, dijital ve geleneksel medyada her bir karakter ve sembolleri benzersiz bir rakam yardımıyla oluşturmak için geliştirilen bir metin standartıdır. Unicode’un geliştirilmesinin asıl amacı ASCII (American Standart Code for Information Interchange) karakter kodlamasının daha gelişmiş ve stratejik bir sürümünün oluşturulabilmesidir.\n",
    "\n",
    "- ASCII yalnızca Latin alfabesi için kullanılabilir, unicode evrenseldir\n",
    "- Python 'string' verisi unicode formatındadır.\n",
    "\n",
    "*çiçek*   ->  *Ã§iÃ§ek* "
   ]
  },
  {
   "cell_type": "markdown",
   "metadata": {
    "colab_type": "text",
    "id": "a4VXoLLvsKci"
   },
   "source": [
    "** Deasciifier **\n",
    "- ASCII formatındaki metinleri unicode formatına çevirmek için\n",
    "- İngilizce klavyeyle yazılmış metinleri düzeltmek / hatalı karakterleri Türkçe karakterlerle değiştirmek için\n",
    "\n",
    "*Dogal Dil Isleme* -> *Doğal Dil İşleme*"
   ]
  },
  {
   "cell_type": "code",
   "execution_count": 0,
   "metadata": {
    "colab": {},
    "colab_type": "code",
    "id": "iluU5R8plPxB"
   },
   "outputs": [],
   "source": [
    "def deasciify(text):\n",
    "    deasciifier = Deasciifier(text)\n",
    "    text = deasciifier.convert_to_turkish()\n",
    "    return text"
   ]
  },
  {
   "cell_type": "code",
   "execution_count": 0,
   "metadata": {
    "colab": {},
    "colab_type": "code",
    "id": "Yzqq6YY2lPxE",
    "outputId": "153b16b3-a79d-400e-b0f1-b1d966ad52fc"
   },
   "outputs": [
    {
     "data": {
      "text/plain": [
       "'Doğal Dil İşleme'"
      ]
     },
     "execution_count": 33,
     "metadata": {
      "tags": []
     },
     "output_type": "execute_result"
    }
   ],
   "source": [
    "text = 'Dogal Dil Isleme'\n",
    "deasciify(text)"
   ]
  },
  {
   "cell_type": "markdown",
   "metadata": {
    "colab_type": "text",
    "id": "Ick4yxJ6lPxH"
   },
   "source": [
    "## Metin Temizleme\n",
    "İşlenecek metinler çoğunlukla 'pis' veridir.\n",
    "- Sistematik hatalar (cümle başı ve sonlarındaki gereksiz boşluklar, vs.)\n",
    "- Yazım hataları (gramer hataları, gereksiz boşluk kullanımı, vs.) -> ('Oluur')\n",
    "- Birden fazla ünlem işareti\n",
    "- Büyük/küçük harflerin yanlış kullanımı -> 'OKul'\n",
    "- Rakam kullanımı\n",
    "\n",
    "Başka problemler:\n",
    "- Emoji kullanımı\n",
    "- Yabancı sözcük kullanımı\n",
    "\n",
    "Emoji ve yabancı sözcük kullanımı duruma bağlı olarak tolere edilebilir, hatta yararlı olabilir.\n",
    "\n",
    "*Ne biliyim bende olur dedim :/:/* -> *Ne bileyim ben de olur dedim* "
   ]
  },
  {
   "cell_type": "code",
   "execution_count": 0,
   "metadata": {
    "colab": {},
    "colab_type": "code",
    "id": "62y-sRFXlPxH",
    "outputId": "19be02b2-c833-4ce9-d461-70311090591d"
   },
   "outputs": [
    {
     "data": {
      "text/plain": [
       "'Ben;de    dedim  ki\\nolabilir1.\\n'"
      ]
     },
     "execution_count": 65,
     "metadata": {
      "tags": []
     },
     "output_type": "execute_result"
    }
   ],
   "source": [
    "# Örnek cümle\n",
    "text = '''Ben;de    dedim  ki\n",
    "olabilir1.\n",
    "'''\n",
    "text"
   ]
  },
  {
   "cell_type": "code",
   "execution_count": 0,
   "metadata": {
    "colab": {},
    "colab_type": "code",
    "id": "hL9R5uL8lPxK",
    "outputId": "39772c06-aa6e-45f2-9dda-8981b26f4c64"
   },
   "outputs": [
    {
     "data": {
      "text/plain": [
       "'Ben;de    dedim  ki\\nolabilir1.'"
      ]
     },
     "execution_count": 66,
     "metadata": {
      "tags": []
     },
     "output_type": "execute_result"
    }
   ],
   "source": [
    "# Cümlenin başındaki ve sonundaki gereksiz boşlukları çıkar\n",
    "text = text.strip()\n",
    "text"
   ]
  },
  {
   "cell_type": "code",
   "execution_count": 0,
   "metadata": {
    "colab": {},
    "colab_type": "code",
    "id": "teZfPNoAlPxN",
    "outputId": "7cdb2c3b-a46e-4cc0-a609-fca3198822c4"
   },
   "outputs": [
    {
     "data": {
      "text/plain": [
       "'ben;de    dedim  ki\\nolabilir1.'"
      ]
     },
     "execution_count": 67,
     "metadata": {
      "tags": []
     },
     "output_type": "execute_result"
    }
   ],
   "source": [
    "# Bütün karakterleri küçük harfe dönüştür\n",
    "text = text.lower()\n",
    "text"
   ]
  },
  {
   "cell_type": "code",
   "execution_count": 0,
   "metadata": {
    "colab": {},
    "colab_type": "code",
    "id": "3B984i28lPxR",
    "outputId": "7fa7772f-6af4-4dc8-da3f-70520664d4db"
   },
   "outputs": [
    {
     "data": {
      "text/plain": [
       "'ben;de    dedim  ki\\nolabilir.'"
      ]
     },
     "execution_count": 68,
     "metadata": {
      "tags": []
     },
     "output_type": "execute_result"
    }
   ],
   "source": [
    "# Rakamları sil\n",
    "text = re.sub(r'\\d+', '', text)\n",
    "text"
   ]
  },
  {
   "cell_type": "code",
   "execution_count": 0,
   "metadata": {
    "colab": {},
    "colab_type": "code",
    "id": "8EnL8iIUlPxT",
    "outputId": "9c9e13fb-8184-4497-e9ac-83c540e19ed3"
   },
   "outputs": [
    {
     "data": {
      "text/plain": [
       "'ben ; de    dedim  ki\\nolabilir .'"
      ]
     },
     "execution_count": 69,
     "metadata": {
      "tags": []
     },
     "output_type": "execute_result"
    }
   ],
   "source": [
    "# Noktalama işaretleriyle harfler arasına boşluk ekle\n",
    "text = re.sub( r'([a-zA-Z])([:;,.!?])', r'\\1 \\2', text)\n",
    "text = re.sub( r'([:;,.!?])([a-zA-Z])', r'\\1 \\2', text)\n",
    "text"
   ]
  },
  {
   "cell_type": "code",
   "execution_count": 0,
   "metadata": {
    "colab": {},
    "colab_type": "code",
    "id": "qBib3rldlPxW",
    "outputId": "ec9830b7-9d36-4730-fb1b-4e9aeb149627"
   },
   "outputs": [
    {
     "data": {
      "text/plain": [
       "'ben ; de dedim ki olabilir .'"
      ]
     },
     "execution_count": 70,
     "metadata": {
      "tags": []
     },
     "output_type": "execute_result"
    }
   ],
   "source": [
    "# Gereksiz tümboşlukları sil\n",
    "text = re.sub(r\"\\s+\", ' ', text)\n",
    "text"
   ]
  },
  {
   "cell_type": "markdown",
   "metadata": {
    "colab_type": "text",
    "id": "kVIEaa4xlPxZ"
   },
   "source": [
    "### Metin Temizleme: Özet\n",
    "Yukarıdaki işlemleri tek bir fonksiyon altında toplayabiliriz."
   ]
  },
  {
   "cell_type": "code",
   "execution_count": 0,
   "metadata": {
    "colab": {},
    "colab_type": "code",
    "id": "Z926wxzElPxZ"
   },
   "outputs": [],
   "source": [
    "def clean_text(text):\n",
    "    text = text.strip()\n",
    "    text = text.lower()\n",
    "    text = re.sub(r'\\d+', '', text)\n",
    "    \n",
    "    text = re.sub( r'([a-zA-Z])([:;,.!?])', r'\\1 \\2', text)\n",
    "    text = re.sub( r'([:;,.!?])([a-zA-Z])', r'\\1 \\2', text)\n",
    "    \n",
    "    text = re.sub(r\"\\s+\", ' ', text)\n",
    "    return text"
   ]
  },
  {
   "cell_type": "markdown",
   "metadata": {
    "colab_type": "text",
    "id": "xXWb1s9qlPxc"
   },
   "source": [
    "## Metin Ön-İşleme\n",
    "Dil modellerini eğitirken performansı arttırmak ve metinleri standart hale getirmek için uygulayacabileceğimiz başka adımlar da var:\n",
    "\n",
    "- Noktalama işaretlerinin tamamının veya bir kısmının kaldırılması\n",
    "- Çok sık kullanılan 'dolgu' kelimelerin (stop words) kaldırılması\n",
    "- Kısaltma kelimeleri (ünvanlar, vs.) tam haline getirmek\n",
    "- Kelimeleri kök haline getirmek ('kitabı', 'kitaplarım' -> 'kitap')\n",
    "\n",
    "Hangi ön-işleme adımlarını kullanacağımız eğittimiz dil modelinin özelliklerine ve kullanım amacımıza bağlı. Örneğin Word2Vec gibi bir kelime temsil modelinde noktalama işaretleri ve rakamları tutmamızın hem bir amacı olmaz hem de model performansını düşürür."
   ]
  },
  {
   "cell_type": "markdown",
   "metadata": {
    "colab_type": "text",
    "id": "JJZlsH0Jrj72"
   },
   "source": [
    "### Dolgu Kelimelerin Çıkarılması"
   ]
  },
  {
   "cell_type": "code",
   "execution_count": 1,
   "metadata": {
    "colab": {
     "base_uri": "https://localhost:8080/",
     "height": 34
    },
    "colab_type": "code",
    "id": "YrWX34BflPxf",
    "outputId": "f2306313-4d59-49cd-91dc-2ef11083a3aa"
   },
   "outputs": [
    {
     "data": {
      "text/plain": [
       "['a', 'acaba', 'altı', 'altmış', 'ama']"
      ]
     },
     "execution_count": 1,
     "metadata": {},
     "output_type": "execute_result"
    }
   ],
   "source": [
    "with open('data/tr-stopwords', 'r') as f:\n",
    "    stopwords = f.read().splitlines()\n",
    "\n",
    "stopwords[:5]"
   ]
  },
  {
   "cell_type": "code",
   "execution_count": 21,
   "metadata": {
    "colab": {
     "base_uri": "https://localhost:8080/",
     "height": 34
    },
    "colab_type": "code",
    "id": "0zXFfVO9nVqn",
    "outputId": "cc7e223c-8a8a-4964-ec98-fcee2ce7fd41"
   },
   "outputs": [
    {
     "data": {
      "text/plain": [
       "'filmi izlemedim övüyorlar'"
      ]
     },
     "execution_count": 21,
     "metadata": {
      "tags": []
     },
     "output_type": "execute_result"
    }
   ],
   "source": [
    "def remove_stopwords(text):\n",
    "  text = ' '.join([word for word in text.split() if word not in stopwords])\n",
    "  return text\n",
    "\n",
    "text = 'o filmi izlemedim ama çok övüyorlar'\n",
    "remove_stopwords(text)"
   ]
  },
  {
   "cell_type": "markdown",
   "metadata": {
    "colab_type": "text",
    "id": "_ghBlnISrola"
   },
   "source": [
    "### Kelime Kökü Bulma"
   ]
  },
  {
   "cell_type": "code",
   "execution_count": 28,
   "metadata": {
    "colab": {
     "base_uri": "https://localhost:8080/",
     "height": 34
    },
    "colab_type": "code",
    "id": "yaolk-nMr0vD",
    "outputId": "8b07516e-24a9-4f86-bc21-4c618a4f2fe7"
   },
   "outputs": [
    {
     "data": {
      "text/plain": [
       "'okul'"
      ]
     },
     "execution_count": 28,
     "metadata": {
      "tags": []
     },
     "output_type": "execute_result"
    }
   ],
   "source": [
    "stemmer = TurkishStemmer()\n",
    "stemmer.stem(\"okuldakilerden\")"
   ]
  }
 ],
 "metadata": {
  "colab": {
   "collapsed_sections": [],
   "name": "preprocess.ipynb",
   "provenance": []
  },
  "kernelspec": {
   "display_name": "Python 3",
   "language": "python",
   "name": "python3"
  },
  "language_info": {
   "codemirror_mode": {
    "name": "ipython",
    "version": 3
   },
   "file_extension": ".py",
   "mimetype": "text/x-python",
   "name": "python",
   "nbconvert_exporter": "python",
   "pygments_lexer": "ipython3",
   "version": "3.7.7"
  }
 },
 "nbformat": 4,
 "nbformat_minor": 1
}
