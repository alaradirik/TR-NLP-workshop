{
 "cells": [
  {
   "cell_type": "code",
   "execution_count": 1,
   "metadata": {},
   "outputs": [
    {
     "name": "stdout",
     "output_type": "stream",
     "text": [
      "Collecting git+https://github.com/emres/turkish-deasciifier.git\n",
      "  Cloning https://github.com/emres/turkish-deasciifier.git to /private/var/folders/pz/6fz4ncm13qv_hnd5gjbql7xr0000gn/T/pip-req-build-nzif3y_c\n",
      "  Running command git clone -q https://github.com/emres/turkish-deasciifier.git /private/var/folders/pz/6fz4ncm13qv_hnd5gjbql7xr0000gn/T/pip-req-build-nzif3y_c\n",
      "Building wheels for collected packages: Turkish-Deasciifier\n",
      "  Building wheel for Turkish-Deasciifier (setup.py) ... \u001b[?25ldone\n",
      "\u001b[?25h  Created wheel for Turkish-Deasciifier: filename=Turkish_Deasciifier-0.1-py3-none-any.whl size=90359 sha256=ebba1e16c0e669b7e7d7269ae3f9081368bc42b62c122dc8290b97b18eedf871\n",
      "  Stored in directory: /private/var/folders/pz/6fz4ncm13qv_hnd5gjbql7xr0000gn/T/pip-ephem-wheel-cache-bcrbwyzj/wheels/84/22/9a/d59c9c6313c39cf371642fdf5e76b9de083631aa716c14c2a7\n",
      "Successfully built Turkish-Deasciifier\n",
      "Installing collected packages: Turkish-Deasciifier\n",
      "Successfully installed Turkish-Deasciifier-0.1\n"
     ]
    }
   ],
   "source": [
    "!pip install git+https://github.com/emres/turkish-deasciifier.git"
   ]
  },
  {
   "cell_type": "code",
   "execution_count": 4,
   "metadata": {},
   "outputs": [],
   "source": [
    "import re\n",
    "from turkish.deasciifier import Deasciifier"
   ]
  },
  {
   "cell_type": "markdown",
   "metadata": {},
   "source": [
    "### Format sorunları\n",
    "Unicode, dijital ve geleneksel medyada her bir karakter ve sembolleri benzersiz bir rakam yardımıyla oluşturmak için geliştirilen bir metin standartıdır. Unicode’un geliştirilmesinin asıl amacı ASCII (American Standart Code for Information Interchange) karakter kodlamasının daha gelişmiş ve stratejik bir sürümünün oluşturulabilmesidir.\n",
    "\n",
    "- ASCII yalnızca Latin alfabesi için kullanılabilir, unicode evrenseldir\n",
    "- Python 'string' verisi unicode formatındadır.\n",
    "\n",
    "*çiçek*   ->  *Ã§iÃ§ek*\n",
    "\n",
    "**Deasciifier**\n",
    "- ASCII formatındaki metinleri unicode formatına çevirmek için\n",
    "- İngilizce klavyeyle yazılmış metinleri düzeltmek / hatalı karakterleri Türkçe karakterlerle değiştirmek için\n",
    "\n",
    "*Dogal Dil Isleme* -> *Doğal Dil İşleme* "
   ]
  },
  {
   "cell_type": "code",
   "execution_count": 32,
   "metadata": {},
   "outputs": [],
   "source": [
    "def deasciify(text):\n",
    "    deasciifier = Deasciifier(text)\n",
    "    text = deasciifier.convert_to_turkish()\n",
    "    return text"
   ]
  },
  {
   "cell_type": "code",
   "execution_count": 33,
   "metadata": {},
   "outputs": [
    {
     "data": {
      "text/plain": [
       "'Doğal Dil İşleme'"
      ]
     },
     "execution_count": 33,
     "metadata": {},
     "output_type": "execute_result"
    }
   ],
   "source": [
    "text = 'Dogal Dil Isleme'\n",
    "deasciify(text)"
   ]
  },
  {
   "cell_type": "markdown",
   "metadata": {},
   "source": [
    "### Metin Temizleme\n",
    "İşlenecek metinler çoğunlukla 'pis' veridir.\n",
    "- Sistematik hatalar (cümle başı ve sonlarındaki gereksiz boşluklar, vs.)\n",
    "- Yazım hataları (gramer hataları, gereksiz boşluk kullanımı, vs.) -> ('Oluur')\n",
    "- Birden fazla ünlem işareti\n",
    "- Büyük/küçük harflerin yanlış kullanımı -> 'OKul'\n",
    "- Rakam kullanımı\n",
    "\n",
    "Başka problemler:\n",
    "- Emoji kullanımı\n",
    "- Yabancı sözcük kullanımı\n",
    "\n",
    "Emoji ve yabancı sözcük kullanımı duruma bağlı olarak tolere edilebilir, hatta yararlı olabilir.\n",
    "\n",
    "*Ne biliyim bende olur dedim :/:/* -> *Ne bileyim ben de olur dedim* "
   ]
  },
  {
   "cell_type": "code",
   "execution_count": 65,
   "metadata": {},
   "outputs": [
    {
     "data": {
      "text/plain": [
       "'Ben;de    dedim  ki\\nolabilir1.\\n'"
      ]
     },
     "execution_count": 65,
     "metadata": {},
     "output_type": "execute_result"
    }
   ],
   "source": [
    "# Örnek cümle\n",
    "text = '''Ben;de    dedim  ki\n",
    "olabilir1.\n",
    "'''\n",
    "text"
   ]
  },
  {
   "cell_type": "code",
   "execution_count": 66,
   "metadata": {},
   "outputs": [
    {
     "data": {
      "text/plain": [
       "'Ben;de    dedim  ki\\nolabilir1.'"
      ]
     },
     "execution_count": 66,
     "metadata": {},
     "output_type": "execute_result"
    }
   ],
   "source": [
    "# Cümlenin başındaki ve sonundaki gereksiz boşlukları çıkar\n",
    "text = text.strip()\n",
    "text"
   ]
  },
  {
   "cell_type": "code",
   "execution_count": 67,
   "metadata": {},
   "outputs": [
    {
     "data": {
      "text/plain": [
       "'ben;de    dedim  ki\\nolabilir1.'"
      ]
     },
     "execution_count": 67,
     "metadata": {},
     "output_type": "execute_result"
    }
   ],
   "source": [
    "# Bütün karakterleri küçük harfe dönüştür\n",
    "text = text.lower()\n",
    "text"
   ]
  },
  {
   "cell_type": "code",
   "execution_count": 68,
   "metadata": {},
   "outputs": [
    {
     "data": {
      "text/plain": [
       "'ben;de    dedim  ki\\nolabilir.'"
      ]
     },
     "execution_count": 68,
     "metadata": {},
     "output_type": "execute_result"
    }
   ],
   "source": [
    "# Rakamları sil\n",
    "text = re.sub(r'\\d+', '', text)\n",
    "text"
   ]
  },
  {
   "cell_type": "code",
   "execution_count": 69,
   "metadata": {},
   "outputs": [
    {
     "data": {
      "text/plain": [
       "'ben ; de    dedim  ki\\nolabilir .'"
      ]
     },
     "execution_count": 69,
     "metadata": {},
     "output_type": "execute_result"
    }
   ],
   "source": [
    "# Noktalama işaretleriyle harfler arasına boşluk ekle\n",
    "text = re.sub( r'([a-zA-Z])([:;,.!?])', r'\\1 \\2', text)\n",
    "text = re.sub( r'([:;,.!?])([a-zA-Z])', r'\\1 \\2', text)\n",
    "text"
   ]
  },
  {
   "cell_type": "code",
   "execution_count": 70,
   "metadata": {},
   "outputs": [
    {
     "data": {
      "text/plain": [
       "'ben ; de dedim ki olabilir .'"
      ]
     },
     "execution_count": 70,
     "metadata": {},
     "output_type": "execute_result"
    }
   ],
   "source": [
    "# Gereksiz tümboşlukları sil\n",
    "text = re.sub(r\"\\s+\", ' ', text)\n",
    "text"
   ]
  },
  {
   "cell_type": "markdown",
   "metadata": {},
   "source": [
    "### Metin Temizleme\n",
    "Yukarıdaki işlemleri tek bir fonksiyon altında toplayabiliriz."
   ]
  },
  {
   "cell_type": "code",
   "execution_count": 71,
   "metadata": {},
   "outputs": [],
   "source": [
    "def clean_text(text):\n",
    "    text = text.strip()\n",
    "    text = text.lower()\n",
    "    text = re.sub(r'\\d+', '', text)\n",
    "    \n",
    "    text = re.sub( r'([a-zA-Z])([:;,.!?])', r'\\1 \\2', text)\n",
    "    text = re.sub( r'([:;,.!?])([a-zA-Z])', r'\\1 \\2', text)\n",
    "    \n",
    "    text = re.sub(r\"\\s+\", ' ', text)\n",
    "    return text"
   ]
  },
  {
   "cell_type": "markdown",
   "metadata": {},
   "source": [
    "### Metin Ön-İşleme\n",
    "Dil modellerini eğitirken performansı arttırmak ve metinleri standart hale getirmek için uygulayacabileceğimiz başka adımlar da var:\n",
    "\n",
    "- Noktalama işaretlerinin tamamının veya bir kısmının kaldırılması\n",
    "- Çok sık kullanılan kelimelerin (stopwords) kaldırılması\n",
    "- Kısaltma kelimeleri (ünvanlar, vs.) tam haline getirmek\n",
    "- Kelimeleri kök haline getirmek ('kitabı', 'kitaplarım' -> 'kitap')\n",
    "\n",
    "Hangi ön-işleme adımlarını kullanacağımız eğittimiz dil modelinin özelliklerine ve kullanım amacımıza bağlı. Örneğin Word2Vec gibi bir kelime temsil modelinde noktalama işaretleri ve rakamları tutmamızın hem bir amacı olmaz hem de model performansını düşürür."
   ]
  },
  {
   "cell_type": "code",
   "execution_count": 2,
   "metadata": {},
   "outputs": [],
   "source": [
    "def preprocess_text(text):\n",
    "\n",
    "  return w"
   ]
  },
  {
   "cell_type": "code",
   "execution_count": null,
   "metadata": {},
   "outputs": [],
   "source": []
  }
 ],
 "metadata": {
  "kernelspec": {
   "display_name": "Python 3",
   "language": "python",
   "name": "python3"
  },
  "language_info": {
   "codemirror_mode": {
    "name": "ipython",
    "version": 3
   },
   "file_extension": ".py",
   "mimetype": "text/x-python",
   "name": "python",
   "nbconvert_exporter": "python",
   "pygments_lexer": "ipython3",
   "version": "3.7.7"
  }
 },
 "nbformat": 4,
 "nbformat_minor": 4
}
