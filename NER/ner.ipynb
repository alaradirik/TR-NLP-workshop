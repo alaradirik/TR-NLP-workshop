{
 "cells": [
  {
   "cell_type": "code",
   "execution_count": 0,
   "metadata": {
    "colab": {},
    "colab_type": "code",
    "id": "sUe6WYR39seK"
   },
   "outputs": [],
   "source": [
    "!pip install spacy"
   ]
  },
  {
   "cell_type": "code",
   "execution_count": 2,
   "metadata": {
    "colab": {},
    "colab_type": "code",
    "id": "V8zdGTDe97X2"
   },
   "outputs": [],
   "source": [
    "import random\n",
    "import json\n",
    "import spacy\n",
    "from spacy import displacy"
   ]
  },
  {
   "cell_type": "markdown",
   "metadata": {
    "colab_type": "text",
    "id": "98fLYefU_B3h"
   },
   "source": [
    "## Veri seti\n",
    "Kullandığımız veriseti 77 farklı kategoride varlık ismi içeren TWNERTC veri setinin astronomi konulu kısmı. Veri setinin tamamına ve araştırmacıların orjinal makalesine [buradan](https://data.mendeley.com/datasets/cdcztymf4k/1) ulaşabilirsiniz.\n",
    "\n",
    "Veri setinin temizlenmiş ve json formatındaki halini ise [buradan](https://drive.google.com/file/d/1o0j4UcEBCehwJSG2SHOl_I-h8TTA6pdI/view?usp=sharing) indirebilirsiniz.\n",
    "\n",
    "\n",
    "Kullanacağımız astronomi temalı veri setinde 12589 cümle ve etiketlenmiş varlık isimleri mevcut.\n"
   ]
  },
  {
   "cell_type": "code",
   "execution_count": 3,
   "metadata": {
    "colab": {
     "base_uri": "https://localhost:8080/",
     "height": 54
    },
    "colab_type": "code",
    "id": "ojMKw557BOPW",
    "outputId": "b102851c-2a6b-4a52-876d-673c0ce09a39"
   },
   "outputs": [
    {
     "name": "stdout",
     "output_type": "stream",
     "text": [
      "{\"Betelgeuse'un üstündeki yıldızlar avcının sağ kolunu Bellatrix'den ötede olan yıldızlarda avcının kalkanını oluşturur .\": {'entities': [[0, 12, 'B-star_name'], [24, 32, 'B-celestial_object_category'], [78, 88, 'B-celestial_object_category']]}}\n"
     ]
    }
   ],
   "source": [
    "with open('data/data_astronomy.json', 'r') as fp:\n",
    "    data = json.load(fp)\n",
    "\n",
    "# Astronomi konulu örnek girdi\n",
    "print(dict(list(data['astronomy'].items())[150:151]))"
   ]
  },
  {
   "cell_type": "markdown",
   "metadata": {
    "colab_type": "text",
    "id": "f3YxlhBvCr_P"
   },
   "source": [
    "## SpaCy NER\n",
    "[SpaCy](https://spacy.io/api) çok amaçlı ve Türkçe'yi kısmen destekleyen bir doğal dil işleme kütüphanesidir. \n",
    "\n",
    "- Eğitilmiş dil modelleri\n",
    "- Dil işleme araçları yanı sıra\n",
    "- Bağlılık analizi (dependency parsing), varlık ismi tanıma (NER) gibi görevler için model eğitim arayüzü\n",
    "\n",
    "\n",
    "SpaCy Varlık İsmi Tanıma (NER) modeli kullandığı yaklaşım:\n",
    "- https://www.youtube.com/watch?time_continue=3&v=sqDHBH9IjRU&feature=emb_logo"
   ]
  },
  {
   "cell_type": "markdown",
   "metadata": {
    "colab_type": "text",
    "id": "AbsDvJFUFIwe"
   },
   "source": [
    "![SpaCy NER formatı](https://miro.medium.com/max/1216/1*TZWuuZjHDMWArQUCohXWGg.png)"
   ]
  },
  {
   "cell_type": "code",
   "execution_count": 0,
   "metadata": {
    "colab": {},
    "colab_type": "code",
    "id": "TyEVlIFD-gFh"
   },
   "outputs": [],
   "source": [
    "def convert_to_spacy_format(data):\n",
    "    DATA = []\n",
    "    for k in data['astronomy']:\n",
    "    \tents = data['astronomy'][k]['entities']\n",
    "    \tfor i in range(len(ents)):\n",
    "    \t\tDATA.append((k, {'entities': [(\n",
    "                ents[i][0], int(ents[i][1])+1, ents[i][2])]}))\n",
    "    return DATA"
   ]
  },
  {
   "cell_type": "code",
   "execution_count": 0,
   "metadata": {
    "colab": {},
    "colab_type": "code",
    "id": "pERuawCS-633"
   },
   "outputs": [],
   "source": [
    "def train_spacy(data, iterations):\n",
    "    TRAIN_DATA = data\n",
    "    # Boş Language objesi yarat\n",
    "    nlp = spacy.blank('tr')\n",
    "\n",
    "    # NER pipeline'ı oluştur\n",
    "    if 'ner' not in nlp.pipe_names:\n",
    "        ner = nlp.create_pipe('ner')\n",
    "        nlp.add_pipe(ner, last=True)\n",
    "       \n",
    "    # Varlık ismi etiketlerini ekle\n",
    "    for _, annotations in TRAIN_DATA:\n",
    "         for ent in annotations.get('entities'):\n",
    "            ner.add_label(ent[2])\n",
    "\n",
    "    # NER haricindeki pipeline'ları dondur\n",
    "    other_pipes = [pipe for pipe in nlp.pipe_names if pipe != 'ner']\n",
    "    with nlp.disable_pipes(*other_pipes):  \n",
    "        optimizer = nlp.begin_training()\n",
    "\n",
    "        # Modeli eğit\n",
    "        for itn in range(iterations):\n",
    "            print(\"Iteration: {}\".format(itn))\n",
    "            random.shuffle(data)\n",
    "            losses = {}\n",
    "            for text, annotations in TRAIN_DATA:\n",
    "                nlp.update(\n",
    "                    [text],  \n",
    "                    [annotations], \n",
    "                    drop=0.2, \n",
    "                    sgd=optimizer, \n",
    "                    losses=losses)\n",
    "            print(losses)\n",
    "    return nlp"
   ]
  },
  {
   "cell_type": "code",
   "execution_count": 40,
   "metadata": {
    "colab": {
     "base_uri": "https://localhost:8080/",
     "height": 357
    },
    "colab_type": "code",
    "id": "gt8APTOoGfSu",
    "outputId": "fda99ab9-0538-4816-b870-0b940271aaed"
   },
   "outputs": [
    {
     "name": "stdout",
     "output_type": "stream",
     "text": [
      "Iteration: 0\n",
      "{'ner': 933.7851642363321}\n",
      "Iteration: 1\n",
      "{'ner': 774.6200844128067}\n",
      "Iteration: 2\n",
      "{'ner': 762.9437644514078}\n",
      "Iteration: 3\n",
      "{'ner': 749.4842491692067}\n",
      "Iteration: 4\n",
      "{'ner': 750.1285597287408}\n",
      "Iteration: 5\n",
      "{'ner': 758.3218601304787}\n",
      "Iteration: 6\n",
      "{'ner': 755.4335308796225}\n",
      "Iteration: 7\n",
      "{'ner': 730.3519379900898}\n",
      "Iteration: 8\n",
      "{'ner': 741.1564092741851}\n",
      "Iteration: 9\n",
      "{'ner': 747.9061720179953}\n"
     ]
    }
   ],
   "source": [
    "# Modeli eğit ve kaydet\n",
    "data = convert_to_spacy_format(data)\n",
    "model = train_spacy(data[:400], 10)\n",
    "model.to_disk(\"astro-ner\")"
   ]
  },
  {
   "cell_type": "code",
   "execution_count": 51,
   "metadata": {
    "colab": {
     "base_uri": "https://localhost:8080/",
     "height": 51
    },
    "colab_type": "code",
    "id": "xeTdn8HSGziX",
    "outputId": "20af42a6-a424-4a84-8fe5-856d9dbef041"
   },
   "outputs": [
    {
     "name": "stdout",
     "output_type": "stream",
     "text": [
      "Betelgeuse'un 0 13 B-star_name\n",
      "yıldızlarda 78 89 B-celestial_object_category\n"
     ]
    }
   ],
   "source": [
    "# Kaydedilmiş modeli yükle ve test et\n",
    "nlp = spacy.load('astro-ner')\n",
    "\n",
    "test_text = \"Betelgeuse'un üstündeki yıldızlar avcının sağ kolunu Bellatrix'den ötede olan yıldızlarda avcının kalkanını oluşturur .\"\n",
    "doc = nlp(test_text)\n",
    "\n",
    "# Tespit edilen varlık isimleri\n",
    "for ent in doc.ents:\n",
    "    print(ent.text, ent.start_char, ent.end_char, ent.label_)"
   ]
  },
  {
   "cell_type": "code",
   "execution_count": 89,
   "metadata": {
    "colab": {
     "base_uri": "https://localhost:8080/",
     "height": 52
    },
    "colab_type": "code",
    "id": "yRM0pFYbK27t",
    "outputId": "d5973f57-dd4f-456e-94f1-76050da93066"
   },
   "outputs": [
    {
     "data": {
      "text/html": [
       "<span class=\"tex2jax_ignore\"><div class=\"entities\" style=\"line-height: 2.5; direction: ltr\">\n",
       "<mark class=\"entity\" style=\"background: #ddd; padding: 0.45em 0.6em; margin: 0 0.25em; line-height: 1; border-radius: 0.35em;\">\n",
       "    HD\n",
       "    <span style=\"font-size: 0.8em; font-weight: bold; line-height: 1; border-radius: 0.35em; text-transform: uppercase; vertical-align: middle; margin-left: 0.5rem\">B-star_name</span>\n",
       "</mark>\n",
       " 41004 Ab , Ressam takımyıldızı'nda yaklaşık 139 ışık yılı uzaklıkta bulunan Güneş dışı \n",
       "<mark class=\"entity\" style=\"background: #ddd; padding: 0.45em 0.6em; margin: 0 0.25em; line-height: 1; border-radius: 0.35em;\">\n",
       "    gezegen\n",
       "    <span style=\"font-size: 0.8em; font-weight: bold; line-height: 1; border-radius: 0.35em; text-transform: uppercase; vertical-align: middle; margin-left: 0.5rem\">B-celestial_object_category</span>\n",
       "</mark>\n",
       " .</div></span>"
      ],
      "text/plain": [
       "<IPython.core.display.HTML object>"
      ]
     },
     "metadata": {
      "tags": []
     },
     "output_type": "display_data"
    }
   ],
   "source": [
    "# Displacy modülü ile görselleştirme\n",
    "displacy.render(doc, style=\"ent\", jupyter=True)"
   ]
  }
 ],
 "metadata": {
  "accelerator": "GPU",
  "colab": {
   "collapsed_sections": [],
   "name": "ner.ipynb",
   "provenance": []
  },
  "kernelspec": {
   "display_name": "Python 3",
   "language": "python",
   "name": "python3"
  },
  "language_info": {
   "codemirror_mode": {
    "name": "ipython",
    "version": 3
   },
   "file_extension": ".py",
   "mimetype": "text/x-python",
   "name": "python",
   "nbconvert_exporter": "python",
   "pygments_lexer": "ipython3",
   "version": "3.7.7"
  }
 },
 "nbformat": 4,
 "nbformat_minor": 1
}
